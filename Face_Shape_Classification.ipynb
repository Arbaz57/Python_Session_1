{
  "nbformat": 4,
  "nbformat_minor": 0,
  "metadata": {
    "accelerator": "GPU",
    "colab": {
      "name": "Face Shape Classification.ipynb",
      "provenance": [],
      "collapsed_sections": [],
      "mount_file_id": "1itMckzoPL8SHytKNFRS67DRDpEMZZrdC",
      "authorship_tag": "ABX9TyMh/lBq98nAUC5TizQjnhpT",
      "include_colab_link": true
    },
    "kernelspec": {
      "display_name": "Python 3",
      "name": "python3"
    },
    "language_info": {
      "name": "python"
    }
  },
  "cells": [
    {
      "cell_type": "markdown",
      "metadata": {
        "id": "view-in-github",
        "colab_type": "text"
      },
      "source": [
        "<a href=\"https://colab.research.google.com/github/Arbaz57/Python_Session_1/blob/main/Face_Shape_Classification.ipynb\" target=\"_parent\"><img src=\"https://colab.research.google.com/assets/colab-badge.svg\" alt=\"Open In Colab\"/></a>"
      ]
    },
    {
      "cell_type": "code",
      "metadata": {
        "id": "vbRUt1fV3HB9"
      },
      "source": [
        "import matplotlib.pyplot as plt\n",
        "import numpy as np\n",
        "import keras\n",
        "import tensorflow as tf\n",
        "from tensorflow.keras import datasets, layers, models\n",
        "from keras.layers import *\n",
        "from keras.models import *\n",
        "from keras.preprocessing import image\n",
        "import os"
      ],
      "execution_count": 1,
      "outputs": []
    },
    {
      "cell_type": "code",
      "metadata": {
        "id": "21FaBPxfyh9n"
      },
      "source": [
        "def show_final_history(history):\n",
        "    fig, ax = plt.subplots(1, 2, figsize=(15,5))\n",
        "    ax[0].set_title('loss')\n",
        "    ax[0].plot(history.epoch, history.history[\"loss\"], label=\"Train loss\")\n",
        "    ax[0].plot(history.epoch, history.history[\"val_loss\"], label=\"Validation loss\")\n",
        "    ax[1].set_title('acc')\n",
        "    ax[1].plot(history.epoch, history.history[\"accuracy\"], label=\"Train acc\")\n",
        "    ax[1].plot(history.epoch, history.history[\"val_accuracy\"], label=\"Validation acc\")\n",
        "    ax[0].legend()\n",
        "    ax[1].legend()"
      ],
      "execution_count": 2,
      "outputs": []
    },
    {
      "cell_type": "code",
      "metadata": {
        "id": "7zq4qPkIGtrh"
      },
      "source": [
        "train_path = '/content/drive/MyDrive/Face Shape Dataset/training_set' \n",
        "testing_path = '/content/drive/MyDrive/Face Shape Dataset/testing_set'"
      ],
      "execution_count": 3,
      "outputs": []
    },
    {
      "cell_type": "code",
      "metadata": {
        "id": "Z5gJpsm53IAC"
      },
      "source": [
        "train_datagen=image.ImageDataGenerator(\n",
        "    rescale = 1./255,\n",
        "    # rotation_range=40,\n",
        "    # width_shift_range=0.2,\n",
        "    # height_shift_range=0.2,\n",
        "    # shear_range=0.2,\n",
        "    # zoom_range=0.2,\n",
        "    # horizontal_flip=True\n",
        ") # Data Augmentation on Training data set to prevent overfitting\n",
        "\n",
        "test_datagen = image.ImageDataGenerator(\n",
        "    rescale = 1./255,\n",
        ")"
      ],
      "execution_count": 4,
      "outputs": []
    },
    {
      "cell_type": "code",
      "metadata": {
        "colab": {
          "base_uri": "https://localhost:8080/"
        },
        "id": "lqCZ3-AB3bTC",
        "outputId": "c5a65a9e-044e-4fd8-ae2e-6c7edcc6db6f"
      },
      "source": [
        "train = train_datagen.flow_from_directory(train_path,\n",
        "                                                       target_size=(299,299),\n",
        "                                                       batch_size=32,\n",
        "                                                       class_mode='sparse'\n",
        ")"
      ],
      "execution_count": 5,
      "outputs": [
        {
          "output_type": "stream",
          "text": [
            "Found 4016 images belonging to 5 classes.\n"
          ],
          "name": "stdout"
        }
      ]
    },
    {
      "cell_type": "code",
      "metadata": {
        "colab": {
          "base_uri": "https://localhost:8080/"
        },
        "id": "h2usYCIexJvN",
        "outputId": "7b97e28f-d452-4e2e-c4fb-8d6bf678e7f4"
      },
      "source": [
        "train.class_indices"
      ],
      "execution_count": 6,
      "outputs": [
        {
          "output_type": "execute_result",
          "data": {
            "text/plain": [
              "{'Heart': 0, 'Oblong': 1, 'Oval': 2, 'Round': 3, 'Square': 4}"
            ]
          },
          "metadata": {
            "tags": []
          },
          "execution_count": 6
        }
      ]
    },
    {
      "cell_type": "code",
      "metadata": {
        "colab": {
          "base_uri": "https://localhost:8080/"
        },
        "id": "Nw-cTCLOxTTo",
        "outputId": "b991a0b4-1d11-451c-f1f9-8208203b4b73"
      },
      "source": [
        "test = test_datagen.flow_from_directory(testing_path,\n",
        "                                                       target_size=(299,299),\n",
        "                                                       batch_size=32,\n",
        "                                                       class_mode='sparse'\n",
        "    \n",
        ")"
      ],
      "execution_count": 7,
      "outputs": [
        {
          "output_type": "stream",
          "text": [
            "Found 2045 images belonging to 5 classes.\n"
          ],
          "name": "stdout"
        }
      ]
    },
    {
      "cell_type": "code",
      "metadata": {
        "colab": {
          "base_uri": "https://localhost:8080/"
        },
        "id": "9s8OCsZYyA6z",
        "outputId": "5166163b-4c3c-4019-d3ad-a5969539462b"
      },
      "source": [
        "test.class_indices"
      ],
      "execution_count": 8,
      "outputs": [
        {
          "output_type": "execute_result",
          "data": {
            "text/plain": [
              "{'Heart': 0, 'Oblong': 1, 'Oval': 2, 'Round': 3, 'Square': 4}"
            ]
          },
          "metadata": {
            "tags": []
          },
          "execution_count": 8
        }
      ]
    },
    {
      "cell_type": "code",
      "metadata": {
        "id": "2_EVdaM-yI11"
      },
      "source": [
        "cnn=models.Sequential()\n",
        "cnn.add(layers.Conv2D(2,(3,3),activation='relu',input_shape=(299,299,3)))\n",
        "\n",
        "cnn.add(layers.MaxPooling2D(2,2))\n",
        "cnn.add(Dropout(0.25))\n",
        "\n",
        "cnn.add(layers.Conv2D(64,(3,3),activation='relu'))\n",
        "cnn.add(layers.MaxPooling2D(2,2))\n",
        "cnn.add(Dropout(0.25))\n",
        "\n",
        "cnn.add(layers.Conv2D(64,(3,3),activation='relu'))\n",
        "cnn.add(layers.MaxPooling2D(2,2))\n",
        "\n",
        "# Feature Learning Layer"
      ],
      "execution_count": 9,
      "outputs": []
    },
    {
      "cell_type": "code",
      "metadata": {
        "id": "m4KVHTRFyYKo"
      },
      "source": [
        "cnn.add(layers.Flatten())\n",
        "cnn.add(layers.Dense(12,activation ='relu'))\n",
        "cnn.add(layers.Dense(5,activation='softmax'))\n",
        "\n",
        "# Fully Connected Layer for Classification"
      ],
      "execution_count": 10,
      "outputs": []
    },
    {
      "cell_type": "code",
      "metadata": {
        "id": "R1vWOUW2yepQ"
      },
      "source": [
        "cnn.compile(optimizer = 'adam',loss= 'sparse_categorical_crossentropy',metrics = ['accuracy']) # Compiling Feature layer and fully Connected Layer"
      ],
      "execution_count": 11,
      "outputs": []
    },
    {
      "cell_type": "code",
      "metadata": {
        "colab": {
          "base_uri": "https://localhost:8080/"
        },
        "id": "mRavgcHoyTtP",
        "outputId": "cd2dcc1b-0909-4390-af14-c3cb34ea0289"
      },
      "source": [
        "cnn.summary()"
      ],
      "execution_count": 12,
      "outputs": [
        {
          "output_type": "stream",
          "text": [
            "Model: \"sequential\"\n",
            "_________________________________________________________________\n",
            "Layer (type)                 Output Shape              Param #   \n",
            "=================================================================\n",
            "conv2d (Conv2D)              (None, 297, 297, 2)       56        \n",
            "_________________________________________________________________\n",
            "max_pooling2d (MaxPooling2D) (None, 148, 148, 2)       0         \n",
            "_________________________________________________________________\n",
            "module_wrapper (ModuleWrappe (None, 148, 148, 2)       0         \n",
            "_________________________________________________________________\n",
            "conv2d_1 (Conv2D)            (None, 146, 146, 64)      1216      \n",
            "_________________________________________________________________\n",
            "max_pooling2d_1 (MaxPooling2 (None, 73, 73, 64)        0         \n",
            "_________________________________________________________________\n",
            "module_wrapper_1 (ModuleWrap (None, 73, 73, 64)        0         \n",
            "_________________________________________________________________\n",
            "conv2d_2 (Conv2D)            (None, 71, 71, 64)        36928     \n",
            "_________________________________________________________________\n",
            "max_pooling2d_2 (MaxPooling2 (None, 35, 35, 64)        0         \n",
            "_________________________________________________________________\n",
            "flatten (Flatten)            (None, 78400)             0         \n",
            "_________________________________________________________________\n",
            "dense (Dense)                (None, 12)                940812    \n",
            "_________________________________________________________________\n",
            "dense_1 (Dense)              (None, 5)                 65        \n",
            "=================================================================\n",
            "Total params: 979,077\n",
            "Trainable params: 979,077\n",
            "Non-trainable params: 0\n",
            "_________________________________________________________________\n"
          ],
          "name": "stdout"
        }
      ]
    },
    {
      "cell_type": "code",
      "metadata": {
        "id": "c1qTpF9aiB0d"
      },
      "source": [
        "checkpoint_path = \"training_1/cp.ckpt\" # Creating a checkpoint to save wieghts"
      ],
      "execution_count": 13,
      "outputs": []
    },
    {
      "cell_type": "code",
      "metadata": {
        "id": "uXyd9TUTjHwQ"
      },
      "source": [
        "checkpoint_dir = os.path.dirname(checkpoint_path)"
      ],
      "execution_count": 14,
      "outputs": []
    },
    {
      "cell_type": "code",
      "metadata": {
        "id": "-p8G95x7jIGM"
      },
      "source": [
        "cp_callback = tf.keras.callbacks.ModelCheckpoint(filepath=checkpoint_path,\n",
        "                                                 save_weights_only=True,\n",
        "                                                 verbose=1)"
      ],
      "execution_count": 15,
      "outputs": []
    },
    {
      "cell_type": "code",
      "metadata": {
        "id": "T-prXRMTy3ab"
      },
      "source": [
        "from PIL import ImageFile\n",
        "ImageFile.LOAD_TRUNCATED_IMAGES = True # Truncating Image"
      ],
      "execution_count": 16,
      "outputs": []
    },
    {
      "cell_type": "code",
      "metadata": {
        "colab": {
          "base_uri": "https://localhost:8080/"
        },
        "id": "uEKn08SOWa-E",
        "outputId": "e80c4866-9e54-458d-e853-13491358a90a"
      },
      "source": [
        "model1 = cnn.fit(train, batch_size=100, epochs = 10, validation_data=test,callbacks=[cp_callback]) # Model is Highly Overfitting"
      ],
      "execution_count": 17,
      "outputs": [
        {
          "output_type": "stream",
          "text": [
            "Epoch 1/10\n",
            "126/126 [==============================] - 2338s 18s/step - loss: 1.6269 - accuracy: 0.2009 - val_loss: 1.6095 - val_accuracy: 0.2000\n",
            "\n",
            "Epoch 00001: saving model to training_1/cp.ckpt\n",
            "Epoch 2/10\n",
            "126/126 [==============================] - 71s 567ms/step - loss: 1.6095 - accuracy: 0.2032 - val_loss: 1.6095 - val_accuracy: 0.2000\n",
            "\n",
            "Epoch 00002: saving model to training_1/cp.ckpt\n",
            "Epoch 3/10\n",
            "126/126 [==============================] - 70s 559ms/step - loss: 1.6095 - accuracy: 0.2032 - val_loss: 1.6095 - val_accuracy: 0.2000\n",
            "\n",
            "Epoch 00003: saving model to training_1/cp.ckpt\n",
            "Epoch 4/10\n",
            "126/126 [==============================] - 71s 561ms/step - loss: 1.6095 - accuracy: 0.2032 - val_loss: 1.6095 - val_accuracy: 0.2000\n",
            "\n",
            "Epoch 00004: saving model to training_1/cp.ckpt\n",
            "Epoch 5/10\n",
            "126/126 [==============================] - 70s 558ms/step - loss: 1.6096 - accuracy: 0.2032 - val_loss: 1.6095 - val_accuracy: 0.2000\n",
            "\n",
            "Epoch 00005: saving model to training_1/cp.ckpt\n",
            "Epoch 6/10\n",
            "126/126 [==============================] - 70s 554ms/step - loss: 1.6095 - accuracy: 0.2032 - val_loss: 1.6095 - val_accuracy: 0.2000\n",
            "\n",
            "Epoch 00006: saving model to training_1/cp.ckpt\n",
            "Epoch 7/10\n",
            "126/126 [==============================] - 70s 559ms/step - loss: 1.6095 - accuracy: 0.2032 - val_loss: 1.6095 - val_accuracy: 0.2000\n",
            "\n",
            "Epoch 00007: saving model to training_1/cp.ckpt\n",
            "Epoch 8/10\n",
            "126/126 [==============================] - 71s 564ms/step - loss: 1.6096 - accuracy: 0.1985 - val_loss: 1.6095 - val_accuracy: 0.2000\n",
            "\n",
            "Epoch 00008: saving model to training_1/cp.ckpt\n",
            "Epoch 9/10\n",
            "126/126 [==============================] - 71s 566ms/step - loss: 1.6096 - accuracy: 0.2032 - val_loss: 1.6095 - val_accuracy: 0.2000\n",
            "\n",
            "Epoch 00009: saving model to training_1/cp.ckpt\n",
            "Epoch 10/10\n",
            "126/126 [==============================] - 71s 564ms/step - loss: 1.6096 - accuracy: 0.2032 - val_loss: 1.6095 - val_accuracy: 0.2000\n",
            "\n",
            "Epoch 00010: saving model to training_1/cp.ckpt\n"
          ],
          "name": "stdout"
        }
      ]
    },
    {
      "cell_type": "code",
      "metadata": {
        "id": "2rMBv1Zcy4hz",
        "colab": {
          "base_uri": "https://localhost:8080/",
          "height": 336
        },
        "outputId": "ad19b1f6-8090-43ec-8bef-5d7146b8a107"
      },
      "source": [
        "show_final_history(model1)"
      ],
      "execution_count": 19,
      "outputs": [
        {
          "output_type": "display_data",
          "data": {
            "image/png": "[encoded data removed]",
            "text/plain": [
              "<Figure size 1080x360 with 2 Axes>"
            ]
          },
          "metadata": {
            "tags": [],
            "needs_background": "light"
          }
        }
      ]
    },
    {
      "cell_type": "code",
      "metadata": {
        "id": "2vt7kuDoyFK4"
      },
      "source": [
        "model_l1 = tf.keras.models.Sequential([\n",
        "    # layer 1\n",
        "    tf.keras.layers.Conv2D(2, (3,3), activation='relu', input_shape=(299, 299, 3), use_bias=True),\n",
        "    tf.keras.layers.MaxPooling2D(2,2),\n",
        "    # layer 2\n",
        "    tf.keras.layers.Conv2D(64, (3,3), activation = 'relu', use_bias=True),\n",
        "    tf.keras.layers.MaxPooling2D(2,2),\n",
        "    # layer 3\n",
        "    tf.keras.layers.Conv2D(128, (3,3), activation = 'relu', use_bias=True, kernel_regularizer =tf.keras.regularizers.l1( l=0.01) ),\n",
        "    tf.keras.layers.MaxPooling2D(2,2),\n",
        "    # layer 4\n",
        "    tf.keras.layers.Conv2D(128, (3,3), activation = 'relu', use_bias=True,kernel_regularizer =tf.keras.regularizers.l1( l=0.01)),\n",
        "    tf.keras.layers.MaxPooling2D(2,2),\n",
        "    tf.keras.layers.Flatten(),\n",
        "    # layer 5\n",
        "    tf.keras.layers.Dense(224, activation = 'relu', use_bias=True, kernel_regularizer =tf.keras.regularizers.l1( l=0.01)),\n",
        "    # layer 6\n",
        "    tf.keras.layers.Dense(5, activation='softmax', use_bias=True)\n",
        "    \n",
        "])"
      ],
      "execution_count": 32,
      "outputs": []
    },
    {
      "cell_type": "code",
      "metadata": {
        "id": "LqNl7GJGyG_w"
      },
      "source": [
        "model_l1.compile(loss = 'sparse_categorical_crossentropy', optimizer='adam', metrics=['accuracy'])"
      ],
      "execution_count": 36,
      "outputs": []
    },
    {
      "cell_type": "code",
      "metadata": {
        "id": "awieYDUPyG0i",
        "colab": {
          "base_uri": "https://localhost:8080/"
        },
        "outputId": "315415d6-641f-4f48-dc49-a07ce1021531"
      },
      "source": [
        "model_l1.summary()"
      ],
      "execution_count": 37,
      "outputs": [
        {
          "output_type": "stream",
          "text": [
            "Model: \"sequential_3\"\n",
            "_________________________________________________________________\n",
            "Layer (type)                 Output Shape              Param #   \n",
            "=================================================================\n",
            "conv2d_11 (Conv2D)           (None, 297, 297, 2)       56        \n",
            "_________________________________________________________________\n",
            "max_pooling2d_11 (MaxPooling (None, 148, 148, 2)       0         \n",
            "_________________________________________________________________\n",
            "conv2d_12 (Conv2D)           (None, 146, 146, 64)      1216      \n",
            "_________________________________________________________________\n",
            "max_pooling2d_12 (MaxPooling (None, 73, 73, 64)        0         \n",
            "_________________________________________________________________\n",
            "conv2d_13 (Conv2D)           (None, 71, 71, 128)       73856     \n",
            "_________________________________________________________________\n",
            "max_pooling2d_13 (MaxPooling (None, 35, 35, 128)       0         \n",
            "_________________________________________________________________\n",
            "conv2d_14 (Conv2D)           (None, 33, 33, 128)       147584    \n",
            "_________________________________________________________________\n",
            "max_pooling2d_14 (MaxPooling (None, 16, 16, 128)       0         \n",
            "_________________________________________________________________\n",
            "flatten_3 (Flatten)          (None, 32768)             0         \n",
            "_________________________________________________________________\n",
            "dense_6 (Dense)              (None, 224)               7340256   \n",
            "_________________________________________________________________\n",
            "dense_7 (Dense)              (None, 5)                 1125      \n",
            "=================================================================\n",
            "Total params: 7,564,093\n",
            "Trainable params: 7,564,093\n",
            "Non-trainable params: 0\n",
            "_________________________________________________________________\n"
          ],
          "name": "stdout"
        }
      ]
    },
    {
      "cell_type": "code",
      "metadata": {
        "id": "cCiwY0iPyHKt",
        "colab": {
          "base_uri": "https://localhost:8080/"
        },
        "outputId": "c050106d-a81f-4b86-e4c9-5d188761e7ef"
      },
      "source": [
        "history_l1 = model_l1.fit(train, epochs=20, validation_data = test, verbose = 1)"
      ],
      "execution_count": 38,
      "outputs": [
        {
          "output_type": "stream",
          "text": [
            "Epoch 1/20\n",
            "126/126 [==============================] - 71s 554ms/step - loss: 49.3819 - accuracy: 0.1960 - val_loss: 11.9439 - val_accuracy: 0.2000\n",
            "Epoch 2/20\n",
            "126/126 [==============================] - 69s 550ms/step - loss: 11.2140 - accuracy: 0.1992 - val_loss: 11.5198 - val_accuracy: 0.2000\n",
            "Epoch 3/20\n",
            "126/126 [==============================] - 69s 545ms/step - loss: 11.2025 - accuracy: 0.2032 - val_loss: 11.4765 - val_accuracy: 0.2000\n",
            "Epoch 4/20\n",
            "126/126 [==============================] - 69s 551ms/step - loss: 11.1933 - accuracy: 0.2032 - val_loss: 11.1747 - val_accuracy: 0.2000\n",
            "Epoch 5/20\n",
            "126/126 [==============================] - 69s 548ms/step - loss: 11.1915 - accuracy: 0.1945 - val_loss: 11.8169 - val_accuracy: 0.2000\n",
            "Epoch 6/20\n",
            "126/126 [==============================] - 69s 552ms/step - loss: 11.2016 - accuracy: 0.2032 - val_loss: 11.4657 - val_accuracy: 0.2000\n",
            "Epoch 7/20\n",
            "126/126 [==============================] - 69s 550ms/step - loss: 11.1998 - accuracy: 0.2032 - val_loss: 11.6517 - val_accuracy: 0.2000\n",
            "Epoch 8/20\n",
            "126/126 [==============================] - 69s 549ms/step - loss: 11.1936 - accuracy: 0.2032 - val_loss: 11.2648 - val_accuracy: 0.2000\n",
            "Epoch 9/20\n",
            "126/126 [==============================] - 69s 550ms/step - loss: 11.1911 - accuracy: 0.2032 - val_loss: 11.6324 - val_accuracy: 0.2000\n",
            "Epoch 10/20\n",
            "126/126 [==============================] - 69s 549ms/step - loss: 11.1909 - accuracy: 0.1987 - val_loss: 11.4528 - val_accuracy: 0.2000\n",
            "Epoch 11/20\n",
            "126/126 [==============================] - 69s 549ms/step - loss: 11.1972 - accuracy: 0.2000 - val_loss: 11.7629 - val_accuracy: 0.2000\n",
            "Epoch 12/20\n",
            "126/126 [==============================] - 69s 549ms/step - loss: 11.1996 - accuracy: 0.2032 - val_loss: 11.4108 - val_accuracy: 0.2000\n",
            "Epoch 13/20\n",
            "126/126 [==============================] - 69s 551ms/step - loss: 11.1926 - accuracy: 0.2032 - val_loss: 11.5596 - val_accuracy: 0.2000\n",
            "Epoch 14/20\n",
            "126/126 [==============================] - 69s 550ms/step - loss: 11.1928 - accuracy: 0.2032 - val_loss: 11.3190 - val_accuracy: 0.2000\n",
            "Epoch 15/20\n",
            "126/126 [==============================] - 69s 548ms/step - loss: 11.1938 - accuracy: 0.2032 - val_loss: 11.7598 - val_accuracy: 0.2000\n",
            "Epoch 16/20\n",
            "126/126 [==============================] - 69s 549ms/step - loss: 11.1956 - accuracy: 0.2032 - val_loss: 11.3625 - val_accuracy: 0.2000\n",
            "Epoch 17/20\n",
            "126/126 [==============================] - 69s 546ms/step - loss: 11.1935 - accuracy: 0.2032 - val_loss: 11.6692 - val_accuracy: 0.2000\n",
            "Epoch 18/20\n",
            "126/126 [==============================] - 69s 549ms/step - loss: 11.1933 - accuracy: 0.2032 - val_loss: 11.3967 - val_accuracy: 0.2000\n",
            "Epoch 19/20\n",
            "126/126 [==============================] - 69s 548ms/step - loss: 11.1948 - accuracy: 0.2032 - val_loss: 11.5640 - val_accuracy: 0.2000\n",
            "Epoch 20/20\n",
            "126/126 [==============================] - 69s 545ms/step - loss: 11.1937 - accuracy: 0.2032 - val_loss: 11.2870 - val_accuracy: 0.2000\n"
          ],
          "name": "stdout"
        }
      ]
    },
    {
      "cell_type": "code",
      "metadata": {
        "id": "0nAmN_pLyt2I",
        "colab": {
          "base_uri": "https://localhost:8080/",
          "height": 336
        },
        "outputId": "46c854f0-da9d-472c-830c-7c1ca17e291b"
      },
      "source": [
        "show_final_history(history_l1)"
      ],
      "execution_count": 39,
      "outputs": [
        {
          "output_type": "display_data",
          "data": {
            "image/png": "[encoded data removed]",
            "text/plain": [
              "<Figure size 1080x360 with 2 Axes>"
            ]
          },
          "metadata": {
            "tags": [],
            "needs_background": "light"
          }
        }
      ]
    },
    {
      "cell_type": "code",
      "metadata": {
        "id": "DP6_BIg0zjKr"
      },
      "source": [
        "# Since our original model is overfitting the data we will use Inception_V3 Pretrained model for feature learning"
      ],
      "execution_count": null,
      "outputs": []
    },
    {
      "cell_type": "code",
      "metadata": {
        "colab": {
          "base_uri": "https://localhost:8080/"
        },
        "id": "qcVIR7AA1EIi",
        "outputId": "fcf07e10-cda3-4768-a7e7-8b66ff9216c1"
      },
      "source": [
        " !wget --no-check-certificate \\\n",
        "    https://storage.googleapis.com/mledu-datasets/inception_v3_weights_tf_dim_ordering_tf_kernels_notop.h5 \\\n",
        "    -O /tmp/inception_v3_weights_tf_dim_ordering_tf_kernels_notop.h5 #Downloading wieghts for Inception_V3 Model"
      ],
      "execution_count": 40,
      "outputs": [
        {
          "output_type": "stream",
          "text": [
            "--2021-06-18 14:59:44--  https://storage.googleapis.com/mledu-datasets/inception_v3_weights_tf_dim_ordering_tf_kernels_notop.h5\n",
            "Resolving storage.googleapis.com (storage.googleapis.com)... 142.251.2.128, 142.250.141.128, 2607:f8b0:4023:c0d::80, ...\n",
            "Connecting to storage.googleapis.com (storage.googleapis.com)|142.251.2.128|:443... connected.\n",
            "HTTP request sent, awaiting response... 200 OK\n",
            "Length: 87910968 (84M) [application/x-hdf]\n",
            "Saving to: ‘/tmp/inception_v3_weights_tf_dim_ordering_tf_kernels_notop.h5’\n",
            "\n",
            "/tmp/inception_v3_w 100%[===================>]  83.84M  91.9MB/s    in 0.9s    \n",
            "\n",
            "2021-06-18 14:59:46 (91.9 MB/s) - ‘/tmp/inception_v3_weights_tf_dim_ordering_tf_kernels_notop.h5’ saved [87910968/87910968]\n",
            "\n"
          ],
          "name": "stdout"
        }
      ]
    },
    {
      "cell_type": "code",
      "metadata": {
        "id": "LXNzB-fH9n8-"
      },
      "source": [
        "from tensorflow.keras.applications.inception_v3 import InceptionV3\n",
        "\n",
        "local_weights_file = '/tmp/inception_v3_weights_tf_dim_ordering_tf_kernels_notop.h5'\n",
        "pre_trained_model = InceptionV3(\n",
        "    input_shape=(299, 299, 3), include_top=False, weights=None)\n",
        "pre_trained_model.load_weights(local_weights_file)\n",
        "\n",
        "# We have kept incude_top = False as we will create the classification layer"
      ],
      "execution_count": 41,
      "outputs": []
    },
    {
      "cell_type": "code",
      "metadata": {
        "id": "9slE9DR61V5H"
      },
      "source": [
        "for layer in pre_trained_model.layers:\n",
        "  layer.trainable = False # We dont want to train our wieghts"
      ],
      "execution_count": 42,
      "outputs": []
    },
    {
      "cell_type": "code",
      "metadata": {
        "colab": {
          "base_uri": "https://localhost:8080/"
        },
        "id": "3Lmm8d4f1dXX",
        "outputId": "b712e0d5-b907-446c-9f0d-09732e78bfb2"
      },
      "source": [
        "last_layer = pre_trained_model.get_layer('mixed7')\n",
        "print('last layer output shape:', last_layer.output_shape)\n",
        "last_output = last_layer.output"
      ],
      "execution_count": 43,
      "outputs": [
        {
          "output_type": "stream",
          "text": [
            "last layer output shape: (None, 17, 17, 768)\n"
          ],
          "name": "stdout"
        }
      ]
    },
    {
      "cell_type": "code",
      "metadata": {
        "id": "YK6LZ_0I1mqo"
      },
      "source": [
        "# Flatten the output layer to 1 dimension\n",
        "x = layers.Flatten()(last_output)\n",
        "# Add a fully connected layer with 100 hidden units and ReLU activation\n",
        "x = layers.Dense(300, activation='relu')(x)\n",
        "# Add a dropout rate of 0.2\n",
        "x = layers.Dropout(0.2)(x)\n",
        "# Add a final sigmoid layer for classification\n",
        "x = layers.Dense(5, activation='softmax')(x)\n",
        "\n",
        "# Configure and compile the model\n",
        "model = Model(pre_trained_model.input, x)\n",
        "model.compile(loss='sparse_categorical_crossentropy',\n",
        "              optimizer='adam',\n",
        "              metrics=['acc'])"
      ],
      "execution_count": 44,
      "outputs": []
    },
    {
      "cell_type": "code",
      "metadata": {
        "colab": {
          "base_uri": "https://localhost:8080/"
        },
        "id": "GZOu_qGZ1sJC",
        "outputId": "28fc0ff9-64a0-46ec-afc1-af802a10f994"
      },
      "source": [
        "model2 = model.fit(train, batch_size=100, epochs = 15, validation_data=test) # Model is underfitting"
      ],
      "execution_count": 45,
      "outputs": [
        {
          "output_type": "stream",
          "text": [
            "Epoch 1/15\n",
            "126/126 [==============================] - 89s 603ms/step - loss: 6.2125 - acc: 0.3133 - val_loss: 1.0886 - val_acc: 0.6083\n",
            "Epoch 2/15\n",
            "126/126 [==============================] - 74s 588ms/step - loss: 0.7046 - acc: 0.7837 - val_loss: 0.8538 - val_acc: 0.7022\n",
            "Epoch 3/15\n",
            "126/126 [==============================] - 73s 580ms/step - loss: 0.2432 - acc: 0.9566 - val_loss: 0.7403 - val_acc: 0.7369\n",
            "Epoch 4/15\n",
            "126/126 [==============================] - 73s 578ms/step - loss: 0.0831 - acc: 0.9941 - val_loss: 0.7267 - val_acc: 0.7589\n",
            "Epoch 5/15\n",
            "126/126 [==============================] - 73s 577ms/step - loss: 0.0266 - acc: 0.9997 - val_loss: 0.7723 - val_acc: 0.7545\n",
            "Epoch 6/15\n",
            "126/126 [==============================] - 73s 577ms/step - loss: 0.0156 - acc: 0.9998 - val_loss: 0.7805 - val_acc: 0.7589\n",
            "Epoch 7/15\n",
            "126/126 [==============================] - 73s 576ms/step - loss: 0.0126 - acc: 0.9997 - val_loss: 0.7743 - val_acc: 0.7653\n",
            "Epoch 8/15\n",
            "126/126 [==============================] - 73s 579ms/step - loss: 0.0109 - acc: 0.9995 - val_loss: 0.7788 - val_acc: 0.7653\n",
            "Epoch 9/15\n",
            "126/126 [==============================] - 73s 577ms/step - loss: 0.0090 - acc: 0.9994 - val_loss: 0.8030 - val_acc: 0.7663\n",
            "Epoch 10/15\n",
            "126/126 [==============================] - 72s 575ms/step - loss: 0.0046 - acc: 0.9998 - val_loss: 0.8553 - val_acc: 0.7584\n",
            "Epoch 11/15\n",
            "126/126 [==============================] - 72s 577ms/step - loss: 0.0049 - acc: 0.9998 - val_loss: 0.8185 - val_acc: 0.7653\n",
            "Epoch 12/15\n",
            "126/126 [==============================] - 72s 576ms/step - loss: 0.0047 - acc: 0.9991 - val_loss: 0.8500 - val_acc: 0.7653\n",
            "Epoch 13/15\n",
            "126/126 [==============================] - 73s 582ms/step - loss: 0.0019 - acc: 1.0000 - val_loss: 0.8522 - val_acc: 0.7648\n",
            "Epoch 14/15\n",
            "126/126 [==============================] - 74s 592ms/step - loss: 0.0016 - acc: 1.0000 - val_loss: 0.8543 - val_acc: 0.7633\n",
            "Epoch 15/15\n",
            "126/126 [==============================] - 74s 593ms/step - loss: 0.0013 - acc: 1.0000 - val_loss: 0.8679 - val_acc: 0.7643\n"
          ],
          "name": "stdout"
        }
      ]
    },
    {
      "cell_type": "code",
      "metadata": {
        "id": "onclD3tkFWtn"
      },
      "source": [
        "test_image= image.load_img('/content/drive/MyDrive/FaceShape Dataset/Momina.jpg'\n",
        "                           ,target_size =(299,299))"
      ],
      "execution_count": 46,
      "outputs": []
    },
    {
      "cell_type": "code",
      "metadata": {
        "id": "HkECW5Ns8AOy"
      },
      "source": [
        "test_image = image.img_to_array(test_image)"
      ],
      "execution_count": 47,
      "outputs": []
    },
    {
      "cell_type": "code",
      "metadata": {
        "id": "9d7dck8t8k6L",
        "colab": {
          "base_uri": "https://localhost:8080/"
        },
        "outputId": "525bc351-aa5f-4874-c03b-d62cd19d2443"
      },
      "source": [
        "test_image.shape"
      ],
      "execution_count": 48,
      "outputs": [
        {
          "output_type": "execute_result",
          "data": {
            "text/plain": [
              "(299, 299, 3)"
            ]
          },
          "metadata": {
            "tags": []
          },
          "execution_count": 48
        }
      ]
    },
    {
      "cell_type": "code",
      "metadata": {
        "id": "i-p2uv_18pBy"
      },
      "source": [
        "test_image=test_image.reshape(1,299, 299, 3)"
      ],
      "execution_count": 49,
      "outputs": []
    },
    {
      "cell_type": "code",
      "metadata": {
        "id": "jwYNuVWJ8wAe"
      },
      "source": [
        "result = model.predict(test_image)"
      ],
      "execution_count": 51,
      "outputs": []
    },
    {
      "cell_type": "code",
      "metadata": {
        "id": "OIiipuEF84Yy",
        "colab": {
          "base_uri": "https://localhost:8080/"
        },
        "outputId": "47c7f982-8353-4fa4-d68a-4d3fa1646246"
      },
      "source": [
        "np.around(result)"
      ],
      "execution_count": 52,
      "outputs": [
        {
          "output_type": "execute_result",
          "data": {
            "text/plain": [
              "array([[0., 0., 0., 1., 0.]], dtype=float32)"
            ]
          },
          "metadata": {
            "tags": []
          },
          "execution_count": 52
        }
      ]
    },
    {
      "cell_type": "code",
      "metadata": {
        "id": "7TOMYDaX9LAm"
      },
      "source": [
        "result=result.argmax()"
      ],
      "execution_count": 53,
      "outputs": []
    },
    {
      "cell_type": "code",
      "metadata": {
        "id": "49Xvax6Q9NgQ"
      },
      "source": [
        "if result == 0:\n",
        "    prediction = 'Heart'\n",
        "elif result == 1:\n",
        "    prediction = 'oblong'\n",
        "elif result == 2:\n",
        "    prediction = 'Oval'\n",
        "elif result == 3:\n",
        "    prediction = 'Round'\n",
        "else:\n",
        "   prediction = 'Square'"
      ],
      "execution_count": 54,
      "outputs": []
    },
    {
      "cell_type": "code",
      "metadata": {
        "id": "wUp0aCu19e97",
        "colab": {
          "base_uri": "https://localhost:8080/"
        },
        "outputId": "087fda47-8a5a-4dac-b6df-f07da686d6cd"
      },
      "source": [
        "print(prediction)"
      ],
      "execution_count": 55,
      "outputs": [
        {
          "output_type": "stream",
          "text": [
            "Round\n"
          ],
          "name": "stdout"
        }
      ]
    }
  ]
}